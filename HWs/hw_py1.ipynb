{
 "cells": [
  {
   "cell_type": "code",
   "execution_count": 1,
   "metadata": {},
   "outputs": [],
   "source": [
    "class Human:\n",
    "    def __init__(self, name, age, date_of_birth):\n",
    "        self.name = name\n",
    "        self.age = age\n",
    "        self.date_of_birth = date_of_birth\n",
    "       \n",
    "    def characteristics(self):\n",
    "        print(f'name: {self.name}')\n",
    "        print(f'age: {self.age}')\n",
    "        print(f'date_of_birth: {self.date_of_birth}')\n",
    "        \n",
    "    def Do_Action(self):\n",
    "        print(f'{self.name} was born on {self.date_of_birth} and has {self.age}.')"
   ]
  },
  {
   "cell_type": "code",
   "execution_count": 2,
   "metadata": {},
   "outputs": [],
   "source": [
    "class Pupil(Human):\n",
    "        def __init__(self, name, age, date_of_birth, GPA, Grade):\n",
    "            super().__init__(name, age, date_of_birth)\n",
    "            \n",
    "            self.GPA = GPA\n",
    "            self.Grade = Grade\n",
    "            \n",
    "        def characteristics_p(self):\n",
    "            print(f'name: {self.name}')\n",
    "            print(f'age: {self.age}')\n",
    "            print(f'date_of_birth: {self.date_of_birth}') \n",
    "            print(f'GPA: {self.GPA}')\n",
    "            print(f'Grade: {self.Grade}')\n",
    "            \n",
    "        def Do_Action(self):\n",
    "            print(f'{self.name} was born on {self.date_of_birth} and has {self.age}. The GPA is {self.GPA} and the grade is {self.Grade}.')"
   ]
  },
  {
   "cell_type": "code",
   "execution_count": 3,
   "metadata": {},
   "outputs": [],
   "source": [
    "class Teacher(Human):\n",
    "        def __init__(self, name, age, date_of_birth, Discipline, Salary):\n",
    "            super().__init__(name, age, date_of_birth)\n",
    "\n",
    "            self.Discipline = Discipline\n",
    "            self.Salary = Salary\n",
    "            \n",
    "        def characteristics_t(self):\n",
    "            print(f'name: {self.name}')\n",
    "            print(f'age: {self.age}')\n",
    "            print(f'date_of_birth: {self.date_of_birth}') \n",
    "            print(f'Discipline: {self.Discipline}')\n",
    "            print(f'Salary: {self.Salary}')\n",
    "            \n",
    "        def Do_Action(self):\n",
    "            print(f'{self.name} was born on {self.date_of_birth} and has {self.age}. The discipline taught is {self.Discipline} and the salary is {self.Salary}.')"
   ]
  },
  {
   "cell_type": "code",
   "execution_count": 4,
   "metadata": {},
   "outputs": [
    {
     "name": "stdout",
     "output_type": "stream",
     "text": [
      "name: Ana\n",
      "age: 19\n",
      "date_of_birth: 28-03-2003\n"
     ]
    }
   ],
   "source": [
    "Ana = Human('Ana', '19', '28-03-2003')\n",
    "Ana.characteristics()"
   ]
  },
  {
   "cell_type": "code",
   "execution_count": 5,
   "metadata": {},
   "outputs": [],
   "source": [
    "Mike = Pupil('Mike', '19', '16-07-2002', 4.5, 9)"
   ]
  },
  {
   "cell_type": "code",
   "execution_count": 6,
   "metadata": {},
   "outputs": [
    {
     "name": "stdout",
     "output_type": "stream",
     "text": [
      "name: Mike\n",
      "age: 19\n",
      "date_of_birth: 16-07-2002\n",
      "GPA: 4.5\n",
      "Grade: 9\n"
     ]
    }
   ],
   "source": [
    "Mike.characteristics_p()"
   ]
  },
  {
   "cell_type": "code",
   "execution_count": 7,
   "metadata": {},
   "outputs": [
    {
     "name": "stdout",
     "output_type": "stream",
     "text": [
      "name: Mike\n",
      "age: 19\n",
      "date_of_birth: 16-07-2002\n"
     ]
    }
   ],
   "source": [
    "Mike.characteristics()"
   ]
  },
  {
   "cell_type": "code",
   "execution_count": 8,
   "metadata": {},
   "outputs": [],
   "source": [
    "Elena = Teacher('Elena', '45', '28-04-1977', 'Maths', 7000)"
   ]
  },
  {
   "cell_type": "code",
   "execution_count": 9,
   "metadata": {},
   "outputs": [
    {
     "name": "stdout",
     "output_type": "stream",
     "text": [
      "name: Elena\n",
      "age: 45\n",
      "date_of_birth: 28-04-1977\n",
      "Discipline: Maths\n",
      "Salary: 7000\n"
     ]
    }
   ],
   "source": [
    "Elena.characteristics_t()"
   ]
  },
  {
   "cell_type": "code",
   "execution_count": 10,
   "metadata": {},
   "outputs": [
    {
     "data": {
      "text/plain": [
       "'Elena'"
      ]
     },
     "execution_count": 10,
     "metadata": {},
     "output_type": "execute_result"
    }
   ],
   "source": [
    "Elena.name"
   ]
  },
  {
   "cell_type": "code",
   "execution_count": 11,
   "metadata": {},
   "outputs": [
    {
     "data": {
      "text/plain": [
       "'19'"
      ]
     },
     "execution_count": 11,
     "metadata": {},
     "output_type": "execute_result"
    }
   ],
   "source": [
    "Ana.age"
   ]
  },
  {
   "cell_type": "code",
   "execution_count": 12,
   "metadata": {},
   "outputs": [
    {
     "data": {
      "text/plain": [
       "9"
      ]
     },
     "execution_count": 12,
     "metadata": {},
     "output_type": "execute_result"
    }
   ],
   "source": [
    "Mike.Grade"
   ]
  },
  {
   "cell_type": "code",
   "execution_count": 13,
   "metadata": {},
   "outputs": [
    {
     "name": "stdout",
     "output_type": "stream",
     "text": [
      "Ana was born on 28-03-2003 and has 19.\n"
     ]
    }
   ],
   "source": [
    "Ana.Do_Action();"
   ]
  },
  {
   "cell_type": "code",
   "execution_count": 14,
   "metadata": {},
   "outputs": [
    {
     "name": "stdout",
     "output_type": "stream",
     "text": [
      "Mike was born on 16-07-2002 and has 19. The GPA is 4.5 and the grade is 9.\n"
     ]
    }
   ],
   "source": [
    "Mike.Do_Action();"
   ]
  },
  {
   "cell_type": "code",
   "execution_count": 15,
   "metadata": {},
   "outputs": [
    {
     "name": "stdout",
     "output_type": "stream",
     "text": [
      "Elena was born on 28-04-1977 and has 45. The discipline taught is Maths and the salary is 7000.\n"
     ]
    }
   ],
   "source": [
    "Elena.Do_Action();"
   ]
  }
 ],
 "metadata": {
  "interpreter": {
   "hash": "88bc70c3287edd5bb9fa648555c9b12395d58f2c5aae13c2440839c893a8f8b1"
  },
  "kernelspec": {
   "display_name": "Python 3.10.3 64-bit",
   "language": "python",
   "name": "python3"
  },
  "language_info": {
   "codemirror_mode": {
    "name": "ipython",
    "version": 3
   },
   "file_extension": ".py",
   "mimetype": "text/x-python",
   "name": "python",
   "nbconvert_exporter": "python",
   "pygments_lexer": "ipython3",
   "version": "3.10.3"
  },
  "orig_nbformat": 4
 },
 "nbformat": 4,
 "nbformat_minor": 2
}
